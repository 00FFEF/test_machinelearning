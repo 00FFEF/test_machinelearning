{
  "nbformat": 4,
  "nbformat_minor": 0,
  "metadata": {
    "colab": {
      "name": "Untitled.ipynb",
      "provenance": [],
      "authorship_tag": "ABX9TyOBHh8tT1upukApQy7zx9LL",
      "include_colab_link": true
    },
    "kernelspec": {
      "name": "python3",
      "display_name": "Python 3"
    },
    "language_info": {
      "name": "python"
    }
  },
  "cells": [
    {
      "cell_type": "markdown",
      "metadata": {
        "id": "view-in-github",
        "colab_type": "text"
      },
      "source": [
        "<a href=\"https://colab.research.google.com/github/00FFEF/test_machinelearning/blob/master/wholesalecustomers_kmeans.ipynb\" target=\"_parent\"><img src=\"https://colab.research.google.com/assets/colab-badge.svg\" alt=\"Open In Colab\"/></a>"
      ]
    },
    {
      "cell_type": "code",
      "metadata": {
        "colab": {
          "base_uri": "https://localhost:8080/"
        },
        "id": "B0l09jPGljZx",
        "outputId": "a8e9a714-eb3e-4184-9405-a4ad2996636c"
      },
      "source": [
        "!ls"
      ],
      "execution_count": 33,
      "outputs": [
        {
          "output_type": "stream",
          "text": [
            "sample_data  Wholesale_customers_data.csv\n"
          ],
          "name": "stdout"
        }
      ]
    },
    {
      "cell_type": "code",
      "metadata": {
        "colab": {
          "base_uri": "https://localhost:8080/"
        },
        "id": "ob5z1AcifX6u",
        "outputId": "e88bf257-508d-4fe1-901f-7c7e7bc85eb8"
      },
      "source": [
        "!ls -l"
      ],
      "execution_count": 34,
      "outputs": [
        {
          "output_type": "stream",
          "text": [
            "total 20\n",
            "drwxr-xr-x 1 root root  4096 Jun 15 13:37 sample_data\n",
            "-rw-r--r-- 1 root root 15021 Jul  2 04:46 Wholesale_customers_data.csv\n"
          ],
          "name": "stdout"
        }
      ]
    },
    {
      "cell_type": "code",
      "metadata": {
        "colab": {
          "base_uri": "https://localhost:8080/"
        },
        "id": "n-TAGiT8fg2c",
        "outputId": "2636087d-7294-4b31-8109-38c16f0834d4"
      },
      "source": [
        "!pwd"
      ],
      "execution_count": 35,
      "outputs": [
        {
          "output_type": "stream",
          "text": [
            "/content\n"
          ],
          "name": "stdout"
        }
      ]
    },
    {
      "cell_type": "code",
      "metadata": {
        "colab": {
          "base_uri": "https://localhost:8080/"
        },
        "id": "THoUvQCofyC1",
        "outputId": "0b090569-dd1a-4400-8f7a-dc4e1ad4350a"
      },
      "source": [
        "!ls -l ./sample_data"
      ],
      "execution_count": 36,
      "outputs": [
        {
          "output_type": "stream",
          "text": [
            "total 55504\n",
            "-rwxr-xr-x 1 root root     1697 Jan  1  2000 anscombe.json\n",
            "-rw-r--r-- 1 root root   301141 Jun 15 13:37 california_housing_test.csv\n",
            "-rw-r--r-- 1 root root  1706430 Jun 15 13:37 california_housing_train.csv\n",
            "-rw-r--r-- 1 root root 18289443 Jun 15 13:37 mnist_test.csv\n",
            "-rw-r--r-- 1 root root 36523880 Jun 15 13:37 mnist_train_small.csv\n",
            "-rwxr-xr-x 1 root root      930 Jan  1  2000 README.md\n"
          ],
          "name": "stdout"
        }
      ]
    },
    {
      "cell_type": "code",
      "metadata": {
        "colab": {
          "base_uri": "https://localhost:8080/"
        },
        "id": "51pfXqgdgwf-",
        "outputId": "9c0a3c36-f982-4912-92e9-d0d3dc1a075b"
      },
      "source": [
        "!ls -l ./Wholesale_customers_data.csv"
      ],
      "execution_count": 37,
      "outputs": [
        {
          "output_type": "stream",
          "text": [
            "-rw-r--r-- 1 root root 15021 Jul  2 04:46 ./Wholesale_customers_data.csv\n"
          ],
          "name": "stdout"
        }
      ]
    },
    {
      "cell_type": "code",
      "metadata": {
        "id": "yrzpm7rUilz0"
      },
      "source": [
        "import pandas as pd\n",
        "df = pd.read_csv('./Wholesale_customers_data.csv')"
      ],
      "execution_count": 38,
      "outputs": []
    },
    {
      "cell_type": "code",
      "metadata": {
        "id": "Pdh7Oskar4lQ"
      },
      "source": [
        "X = df.iloc[:,:]"
      ],
      "execution_count": 39,
      "outputs": []
    },
    {
      "cell_type": "code",
      "metadata": {
        "colab": {
          "base_uri": "https://localhost:8080/"
        },
        "id": "phOjVxvLsQNA",
        "outputId": "c79b3574-80ce-40d9-b0dc-4d7342a227c2"
      },
      "source": [
        "X.shape"
      ],
      "execution_count": 40,
      "outputs": [
        {
          "output_type": "execute_result",
          "data": {
            "text/plain": [
              "(440, 8)"
            ]
          },
          "metadata": {
            "tags": []
          },
          "execution_count": 40
        }
      ]
    },
    {
      "cell_type": "code",
      "metadata": {
        "id": "HE4ZtI6KsePY"
      },
      "source": [
        "from sklearn.preprocessing import StandardScaler\n",
        "scaler = StandardScaler()\n",
        "scaler.fit(X)\n",
        "X = scaler.transform(X)"
      ],
      "execution_count": 41,
      "outputs": []
    },
    {
      "cell_type": "code",
      "metadata": {
        "id": "bNBzFcJ4tCAg"
      },
      "source": [
        "from sklearn import cluster\n",
        "kmeans = cluster.KMeans(n_clusters=5)"
      ],
      "execution_count": 42,
      "outputs": []
    },
    {
      "cell_type": "code",
      "metadata": {
        "colab": {
          "base_uri": "https://localhost:8080/"
        },
        "id": "KW7CO96It0hY",
        "outputId": "21149648-173f-46da-9861-9d63a4c7aedd"
      },
      "source": [
        "kmeans.fit(x)"
      ],
      "execution_count": 43,
      "outputs": [
        {
          "output_type": "execute_result",
          "data": {
            "text/plain": [
              "KMeans(algorithm='auto', copy_x=True, init='k-means++', max_iter=300,\n",
              "       n_clusters=5, n_init=10, n_jobs=None, precompute_distances='auto',\n",
              "       random_state=None, tol=0.0001, verbose=0)"
            ]
          },
          "metadata": {
            "tags": []
          },
          "execution_count": 43
        }
      ]
    },
    {
      "cell_type": "code",
      "metadata": {
        "colab": {
          "base_uri": "https://localhost:8080/"
        },
        "id": "jQWhUmoOvFT_",
        "outputId": "5ecbc370-554a-484d-f44c-b6fd698f6224"
      },
      "source": [
        "kmeans.labels_"
      ],
      "execution_count": 44,
      "outputs": [
        {
          "output_type": "execute_result",
          "data": {
            "text/plain": [
              "array([4, 4, 4, 1, 1, 4, 4, 4, 4, 0, 0, 4, 1, 1, 1, 4, 0, 4, 1, 4, 1, 4,\n",
              "       1, 0, 1, 1, 4, 1, 0, 2, 1, 4, 1, 1, 4, 4, 1, 0, 0, 2, 1, 1, 0, 0,\n",
              "       4, 0, 0, 3, 4, 0, 4, 4, 2, 0, 1, 4, 0, 0, 1, 4, 4, 3, 4, 0, 4, 3,\n",
              "       4, 1, 4, 4, 1, 1, 4, 1, 4, 1, 4, 0, 4, 4, 4, 0, 4, 1, 4, 3, 3, 2,\n",
              "       4, 1, 4, 1, 0, 1, 0, 4, 4, 4, 4, 4, 0, 0, 4, 2, 1, 1, 4, 0, 4, 0,\n",
              "       4, 0, 1, 1, 1, 4, 4, 4, 1, 4, 1, 4, 4, 4, 2, 2, 1, 1, 4, 2, 4, 4,\n",
              "       1, 4, 4, 4, 4, 4, 1, 4, 1, 1, 2, 4, 1, 0, 4, 4, 4, 1, 1, 4, 1, 4,\n",
              "       4, 0, 0, 1, 4, 0, 4, 4, 1, 0, 4, 0, 4, 4, 4, 4, 0, 0, 4, 0, 4, 0,\n",
              "       2, 4, 4, 4, 4, 2, 0, 2, 4, 4, 4, 4, 0, 0, 1, 1, 4, 0, 4, 1, 1, 4,\n",
              "       4, 4, 0, 0, 1, 4, 4, 0, 4, 4, 4, 0, 1, 3, 4, 4, 4, 0, 0, 1, 0, 4,\n",
              "       1, 4, 4, 4, 4, 4, 1, 4, 4, 4, 4, 4, 1, 4, 1, 4, 4, 1, 4, 2, 1, 1,\n",
              "       1, 4, 4, 0, 4, 1, 1, 4, 4, 0, 4, 1, 4, 1, 4, 4, 2, 2, 4, 4, 1, 4,\n",
              "       0, 0, 0, 1, 0, 1, 4, 4, 4, 2, 4, 4, 1, 4, 4, 1, 4, 4, 2, 1, 2, 2,\n",
              "       4, 1, 1, 2, 4, 4, 4, 0, 1, 4, 1, 4, 4, 4, 1, 0, 4, 0, 0, 0, 0, 1,\n",
              "       4, 0, 4, 1, 0, 4, 4, 0, 4, 4, 4, 0, 4, 4, 1, 1, 1, 2, 4, 4, 1, 4,\n",
              "       4, 0, 1, 3, 1, 1, 1, 4, 4, 4, 4, 4, 4, 0, 4, 4, 0, 1, 4, 0, 4, 0,\n",
              "       4, 0, 1, 4, 1, 0, 4, 4, 1, 4, 4, 4, 4, 4, 4, 4, 1, 4, 2, 1, 4, 1,\n",
              "       4, 4, 0, 2, 4, 4, 1, 1, 2, 4, 0, 4, 4, 1, 4, 4, 4, 4, 4, 1, 4, 4,\n",
              "       4, 4, 4, 4, 4, 1, 1, 1, 1, 4, 1, 0, 4, 4, 4, 4, 4, 4, 4, 4, 0, 4,\n",
              "       0, 4, 0, 1, 1, 1, 1, 4, 0, 2, 4, 4, 0, 4, 1, 4, 1, 1, 2, 0, 4, 4],\n",
              "      dtype=int32)"
            ]
          },
          "metadata": {
            "tags": []
          },
          "execution_count": 44
        }
      ]
    },
    {
      "cell_type": "code",
      "metadata": {
        "id": "vKpH3ndbvHCm"
      },
      "source": [
        "df['label'] = kmeans.labels_"
      ],
      "execution_count": 45,
      "outputs": []
    },
    {
      "cell_type": "code",
      "metadata": {
        "colab": {
          "base_uri": "https://localhost:8080/",
          "height": 204
        },
        "id": "m-vJD_0dvhH_",
        "outputId": "0eff5158-085a-4839-e8a7-422bbdee5a8a"
      },
      "source": [
        "df.head()"
      ],
      "execution_count": 46,
      "outputs": [
        {
          "output_type": "execute_result",
          "data": {
            "text/html": [
              "<div>\n",
              "<style scoped>\n",
              "    .dataframe tbody tr th:only-of-type {\n",
              "        vertical-align: middle;\n",
              "    }\n",
              "\n",
              "    .dataframe tbody tr th {\n",
              "        vertical-align: top;\n",
              "    }\n",
              "\n",
              "    .dataframe thead th {\n",
              "        text-align: right;\n",
              "    }\n",
              "</style>\n",
              "<table border=\"1\" class=\"dataframe\">\n",
              "  <thead>\n",
              "    <tr style=\"text-align: right;\">\n",
              "      <th></th>\n",
              "      <th>Channel</th>\n",
              "      <th>Region</th>\n",
              "      <th>Fresh</th>\n",
              "      <th>Milk</th>\n",
              "      <th>Grocery</th>\n",
              "      <th>Frozen</th>\n",
              "      <th>Detergents_Paper</th>\n",
              "      <th>Delicassen</th>\n",
              "      <th>label</th>\n",
              "    </tr>\n",
              "  </thead>\n",
              "  <tbody>\n",
              "    <tr>\n",
              "      <th>0</th>\n",
              "      <td>2</td>\n",
              "      <td>3</td>\n",
              "      <td>12669</td>\n",
              "      <td>9656</td>\n",
              "      <td>7561</td>\n",
              "      <td>214</td>\n",
              "      <td>2674</td>\n",
              "      <td>1338</td>\n",
              "      <td>4</td>\n",
              "    </tr>\n",
              "    <tr>\n",
              "      <th>1</th>\n",
              "      <td>2</td>\n",
              "      <td>3</td>\n",
              "      <td>7057</td>\n",
              "      <td>9810</td>\n",
              "      <td>9568</td>\n",
              "      <td>1762</td>\n",
              "      <td>3293</td>\n",
              "      <td>1776</td>\n",
              "      <td>4</td>\n",
              "    </tr>\n",
              "    <tr>\n",
              "      <th>2</th>\n",
              "      <td>2</td>\n",
              "      <td>3</td>\n",
              "      <td>6353</td>\n",
              "      <td>8808</td>\n",
              "      <td>7684</td>\n",
              "      <td>2405</td>\n",
              "      <td>3516</td>\n",
              "      <td>7844</td>\n",
              "      <td>4</td>\n",
              "    </tr>\n",
              "    <tr>\n",
              "      <th>3</th>\n",
              "      <td>1</td>\n",
              "      <td>3</td>\n",
              "      <td>13265</td>\n",
              "      <td>1196</td>\n",
              "      <td>4221</td>\n",
              "      <td>6404</td>\n",
              "      <td>507</td>\n",
              "      <td>1788</td>\n",
              "      <td>1</td>\n",
              "    </tr>\n",
              "    <tr>\n",
              "      <th>4</th>\n",
              "      <td>2</td>\n",
              "      <td>3</td>\n",
              "      <td>22615</td>\n",
              "      <td>5410</td>\n",
              "      <td>7198</td>\n",
              "      <td>3915</td>\n",
              "      <td>1777</td>\n",
              "      <td>5185</td>\n",
              "      <td>1</td>\n",
              "    </tr>\n",
              "  </tbody>\n",
              "</table>\n",
              "</div>"
            ],
            "text/plain": [
              "   Channel  Region  Fresh  Milk  ...  Frozen  Detergents_Paper  Delicassen  label\n",
              "0        2       3  12669  9656  ...     214              2674        1338      4\n",
              "1        2       3   7057  9810  ...    1762              3293        1776      4\n",
              "2        2       3   6353  8808  ...    2405              3516        7844      4\n",
              "3        1       3  13265  1196  ...    6404               507        1788      1\n",
              "4        2       3  22615  5410  ...    3915              1777        5185      1\n",
              "\n",
              "[5 rows x 9 columns]"
            ]
          },
          "metadata": {
            "tags": []
          },
          "execution_count": 46
        }
      ]
    },
    {
      "cell_type": "code",
      "metadata": {
        "colab": {
          "base_uri": "https://localhost:8080/",
          "height": 602
        },
        "id": "KGIljNSevisW",
        "outputId": "e93a6009-c3f4-4f6d-c6e9-fa09f79837df"
      },
      "source": [
        "df.plot(kind='scatter', x='Grocery', y='Frozen', c='label', cmap='Set1', figsize=(10,10))"
      ],
      "execution_count": 52,
      "outputs": [
        {
          "output_type": "execute_result",
          "data": {
            "text/plain": [
              "<matplotlib.axes._subplots.AxesSubplot at 0x7f6b6f285090>"
            ]
          },
          "metadata": {
            "tags": []
          },
          "execution_count": 52
        },
        {
          "output_type": "display_data",
          "data": {
            "image/png": "[encoded data removed]",
            "text/plain": [
              "<Figure size 720x720 with 2 Axes>"
            ]
          },
          "metadata": {
            "tags": [],
            "needs_background": "light"
          }
        }
      ]
    },
    {
      "cell_type": "code",
      "metadata": {
        "colab": {
          "base_uri": "https://localhost:8080/"
        },
        "id": "IF_CM8vKxHms",
        "outputId": "db7b47ef-9ce1-4043-96e9-19affe092aa9"
      },
      "source": [
        "# for ...:\n",
        "#   if not(df['label'] == 0 or df['label'] == 4):\n",
        "dfx = df[~((df['label'] == 0) | (df['label'] == 4))]\n",
        "df.shape, dfx.shape"
      ],
      "execution_count": 57,
      "outputs": [
        {
          "output_type": "execute_result",
          "data": {
            "text/plain": [
              "((440, 9), (143, 9))"
            ]
          },
          "metadata": {
            "tags": []
          },
          "execution_count": 57
        }
      ]
    },
    {
      "cell_type": "code",
      "metadata": {
        "colab": {
          "base_uri": "https://localhost:8080/",
          "height": 439
        },
        "id": "KCRjAQJm2LbE",
        "outputId": "a1b30966-7bbf-4a46-f51d-0bea1f74240a"
      },
      "source": [
        "dfx.plot(kind='scatter', x='Grocery', y='Frozen', c='label', cmap='Set1', figsize=(7,7))"
      ],
      "execution_count": 58,
      "outputs": [
        {
          "output_type": "execute_result",
          "data": {
            "text/plain": [
              "<matplotlib.axes._subplots.AxesSubplot at 0x7f6b6f03dad0>"
            ]
          },
          "metadata": {
            "tags": []
          },
          "execution_count": 58
        },
        {
          "output_type": "display_data",
          "data": {
            "image/png": "[encoded data removed]",
            "text/plain": [
              "<Figure size 504x504 with 2 Axes>"
            ]
          },
          "metadata": {
            "tags": [],
            "needs_background": "light"
          }
        }
      ]
    },
    {
      "cell_type": "code",
      "metadata": {
        "id": "daQqmgom2pqk"
      },
      "source": [
        "df.to_excel('./Wholesale.xls')"
      ],
      "execution_count": 59,
      "outputs": []
    },
    {
      "cell_type": "code",
      "metadata": {
        "id": "zWiUHmu33PXi"
      },
      "source": [
        ""
      ],
      "execution_count": null,
      "outputs": []
    }
  ]
}